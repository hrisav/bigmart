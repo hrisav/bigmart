{
 "cells": [
  {
   "cell_type": "markdown",
   "metadata": {},
   "source": [
    "# Checkpoint 1"
   ]
  },
  {
   "cell_type": "markdown",
   "metadata": {},
   "source": [
    "Here we will just make the categorical variables as dummy and won't do much pre-processing of that data."
   ]
  },
  {
   "cell_type": "markdown",
   "metadata": {},
   "source": [
    "### Data Engineering Process"
   ]
  },
  {
   "cell_type": "code",
   "execution_count": 106,
   "metadata": {},
   "outputs": [
    {
     "data": {
      "text/html": [
       "<div>\n",
       "<style scoped>\n",
       "    .dataframe tbody tr th:only-of-type {\n",
       "        vertical-align: middle;\n",
       "    }\n",
       "\n",
       "    .dataframe tbody tr th {\n",
       "        vertical-align: top;\n",
       "    }\n",
       "\n",
       "    .dataframe thead th {\n",
       "        text-align: right;\n",
       "    }\n",
       "</style>\n",
       "<table border=\"1\" class=\"dataframe\">\n",
       "  <thead>\n",
       "    <tr style=\"text-align: right;\">\n",
       "      <th></th>\n",
       "      <th>Item_Identifier</th>\n",
       "      <th>Item_Weight</th>\n",
       "      <th>Item_Fat_Content</th>\n",
       "      <th>Item_Visibility</th>\n",
       "      <th>Item_Type</th>\n",
       "      <th>Item_MRP</th>\n",
       "      <th>Outlet_Identifier</th>\n",
       "      <th>Outlet_Establishment_Year</th>\n",
       "      <th>Outlet_Size</th>\n",
       "      <th>Outlet_Location_Type</th>\n",
       "      <th>Outlet_Type</th>\n",
       "      <th>Item_Outlet_Sales</th>\n",
       "    </tr>\n",
       "  </thead>\n",
       "  <tbody>\n",
       "    <tr>\n",
       "      <th>0</th>\n",
       "      <td>FDA15</td>\n",
       "      <td>9.30</td>\n",
       "      <td>Low Fat</td>\n",
       "      <td>0.016047</td>\n",
       "      <td>Dairy</td>\n",
       "      <td>249.8092</td>\n",
       "      <td>OUT049</td>\n",
       "      <td>1999</td>\n",
       "      <td>Medium</td>\n",
       "      <td>Tier 1</td>\n",
       "      <td>Supermarket Type1</td>\n",
       "      <td>3735.1380</td>\n",
       "    </tr>\n",
       "    <tr>\n",
       "      <th>1</th>\n",
       "      <td>DRC01</td>\n",
       "      <td>5.92</td>\n",
       "      <td>Regular</td>\n",
       "      <td>0.019278</td>\n",
       "      <td>Soft Drinks</td>\n",
       "      <td>48.2692</td>\n",
       "      <td>OUT018</td>\n",
       "      <td>2009</td>\n",
       "      <td>Medium</td>\n",
       "      <td>Tier 3</td>\n",
       "      <td>Supermarket Type2</td>\n",
       "      <td>443.4228</td>\n",
       "    </tr>\n",
       "    <tr>\n",
       "      <th>2</th>\n",
       "      <td>FDN15</td>\n",
       "      <td>17.50</td>\n",
       "      <td>Low Fat</td>\n",
       "      <td>0.016760</td>\n",
       "      <td>Meat</td>\n",
       "      <td>141.6180</td>\n",
       "      <td>OUT049</td>\n",
       "      <td>1999</td>\n",
       "      <td>Medium</td>\n",
       "      <td>Tier 1</td>\n",
       "      <td>Supermarket Type1</td>\n",
       "      <td>2097.2700</td>\n",
       "    </tr>\n",
       "    <tr>\n",
       "      <th>3</th>\n",
       "      <td>FDX07</td>\n",
       "      <td>19.20</td>\n",
       "      <td>Regular</td>\n",
       "      <td>0.000000</td>\n",
       "      <td>Fruits and Vegetables</td>\n",
       "      <td>182.0950</td>\n",
       "      <td>OUT010</td>\n",
       "      <td>1998</td>\n",
       "      <td>NaN</td>\n",
       "      <td>Tier 3</td>\n",
       "      <td>Grocery Store</td>\n",
       "      <td>732.3800</td>\n",
       "    </tr>\n",
       "    <tr>\n",
       "      <th>4</th>\n",
       "      <td>NCD19</td>\n",
       "      <td>8.93</td>\n",
       "      <td>Low Fat</td>\n",
       "      <td>0.000000</td>\n",
       "      <td>Household</td>\n",
       "      <td>53.8614</td>\n",
       "      <td>OUT013</td>\n",
       "      <td>1987</td>\n",
       "      <td>High</td>\n",
       "      <td>Tier 3</td>\n",
       "      <td>Supermarket Type1</td>\n",
       "      <td>994.7052</td>\n",
       "    </tr>\n",
       "  </tbody>\n",
       "</table>\n",
       "</div>"
      ],
      "text/plain": [
       "  Item_Identifier  Item_Weight Item_Fat_Content  Item_Visibility  \\\n",
       "0           FDA15         9.30          Low Fat         0.016047   \n",
       "1           DRC01         5.92          Regular         0.019278   \n",
       "2           FDN15        17.50          Low Fat         0.016760   \n",
       "3           FDX07        19.20          Regular         0.000000   \n",
       "4           NCD19         8.93          Low Fat         0.000000   \n",
       "\n",
       "               Item_Type  Item_MRP Outlet_Identifier  \\\n",
       "0                  Dairy  249.8092            OUT049   \n",
       "1            Soft Drinks   48.2692            OUT018   \n",
       "2                   Meat  141.6180            OUT049   \n",
       "3  Fruits and Vegetables  182.0950            OUT010   \n",
       "4              Household   53.8614            OUT013   \n",
       "\n",
       "   Outlet_Establishment_Year Outlet_Size Outlet_Location_Type  \\\n",
       "0                       1999      Medium               Tier 1   \n",
       "1                       2009      Medium               Tier 3   \n",
       "2                       1999      Medium               Tier 1   \n",
       "3                       1998         NaN               Tier 3   \n",
       "4                       1987        High               Tier 3   \n",
       "\n",
       "         Outlet_Type  Item_Outlet_Sales  \n",
       "0  Supermarket Type1          3735.1380  \n",
       "1  Supermarket Type2           443.4228  \n",
       "2  Supermarket Type1          2097.2700  \n",
       "3      Grocery Store           732.3800  \n",
       "4  Supermarket Type1           994.7052  "
      ]
     },
     "execution_count": 106,
     "metadata": {},
     "output_type": "execute_result"
    }
   ],
   "source": [
    "import pandas as pd\n",
    "df = pd.read_csv('Train_BigMart.csv')\n",
    "df.head()\n",
    "#index got automatically added"
   ]
  },
  {
   "cell_type": "markdown",
   "metadata": {},
   "source": [
    "#### Target value / Dependent : Item_Outlet_Sales"
   ]
  },
  {
   "cell_type": "code",
   "execution_count": 2,
   "metadata": {},
   "outputs": [
    {
     "data": {
      "text/plain": [
       "Index(['Item_Identifier', 'Item_Weight', 'Item_Fat_Content', 'Item_Visibility',\n",
       "       'Item_Type', 'Item_MRP', 'Outlet_Identifier',\n",
       "       'Outlet_Establishment_Year', 'Outlet_Size', 'Outlet_Location_Type',\n",
       "       'Outlet_Type', 'Item_Outlet_Sales'],\n",
       "      dtype='object')"
      ]
     },
     "execution_count": 2,
     "metadata": {},
     "output_type": "execute_result"
    }
   ],
   "source": [
    "df.columns"
   ]
  },
  {
   "cell_type": "code",
   "execution_count": 3,
   "metadata": {},
   "outputs": [
    {
     "data": {
      "text/plain": [
       "(8523, 12)"
      ]
     },
     "execution_count": 3,
     "metadata": {},
     "output_type": "execute_result"
    }
   ],
   "source": [
    "df.shape"
   ]
  },
  {
   "cell_type": "code",
   "execution_count": 4,
   "metadata": {},
   "outputs": [
    {
     "data": {
      "text/html": [
       "<div>\n",
       "<style scoped>\n",
       "    .dataframe tbody tr th:only-of-type {\n",
       "        vertical-align: middle;\n",
       "    }\n",
       "\n",
       "    .dataframe tbody tr th {\n",
       "        vertical-align: top;\n",
       "    }\n",
       "\n",
       "    .dataframe thead th {\n",
       "        text-align: right;\n",
       "    }\n",
       "</style>\n",
       "<table border=\"1\" class=\"dataframe\">\n",
       "  <thead>\n",
       "    <tr style=\"text-align: right;\">\n",
       "      <th></th>\n",
       "      <th>Item_Weight</th>\n",
       "      <th>Item_Fat_Content</th>\n",
       "      <th>Item_Visibility</th>\n",
       "      <th>Item_Type</th>\n",
       "      <th>Item_MRP</th>\n",
       "      <th>Outlet_Identifier</th>\n",
       "      <th>Outlet_Establishment_Year</th>\n",
       "      <th>Outlet_Size</th>\n",
       "      <th>Outlet_Location_Type</th>\n",
       "      <th>Outlet_Type</th>\n",
       "      <th>Item_Outlet_Sales</th>\n",
       "    </tr>\n",
       "    <tr>\n",
       "      <th>Item_Identifier</th>\n",
       "      <th></th>\n",
       "      <th></th>\n",
       "      <th></th>\n",
       "      <th></th>\n",
       "      <th></th>\n",
       "      <th></th>\n",
       "      <th></th>\n",
       "      <th></th>\n",
       "      <th></th>\n",
       "      <th></th>\n",
       "      <th></th>\n",
       "    </tr>\n",
       "  </thead>\n",
       "  <tbody>\n",
       "    <tr>\n",
       "      <th>FDA15</th>\n",
       "      <td>9.30</td>\n",
       "      <td>Low Fat</td>\n",
       "      <td>0.016047</td>\n",
       "      <td>Dairy</td>\n",
       "      <td>249.8092</td>\n",
       "      <td>OUT049</td>\n",
       "      <td>1999</td>\n",
       "      <td>Medium</td>\n",
       "      <td>Tier 1</td>\n",
       "      <td>Supermarket Type1</td>\n",
       "      <td>3735.1380</td>\n",
       "    </tr>\n",
       "    <tr>\n",
       "      <th>DRC01</th>\n",
       "      <td>5.92</td>\n",
       "      <td>Regular</td>\n",
       "      <td>0.019278</td>\n",
       "      <td>Soft Drinks</td>\n",
       "      <td>48.2692</td>\n",
       "      <td>OUT018</td>\n",
       "      <td>2009</td>\n",
       "      <td>Medium</td>\n",
       "      <td>Tier 3</td>\n",
       "      <td>Supermarket Type2</td>\n",
       "      <td>443.4228</td>\n",
       "    </tr>\n",
       "    <tr>\n",
       "      <th>FDN15</th>\n",
       "      <td>17.50</td>\n",
       "      <td>Low Fat</td>\n",
       "      <td>0.016760</td>\n",
       "      <td>Meat</td>\n",
       "      <td>141.6180</td>\n",
       "      <td>OUT049</td>\n",
       "      <td>1999</td>\n",
       "      <td>Medium</td>\n",
       "      <td>Tier 1</td>\n",
       "      <td>Supermarket Type1</td>\n",
       "      <td>2097.2700</td>\n",
       "    </tr>\n",
       "    <tr>\n",
       "      <th>FDX07</th>\n",
       "      <td>19.20</td>\n",
       "      <td>Regular</td>\n",
       "      <td>0.000000</td>\n",
       "      <td>Fruits and Vegetables</td>\n",
       "      <td>182.0950</td>\n",
       "      <td>OUT010</td>\n",
       "      <td>1998</td>\n",
       "      <td>NaN</td>\n",
       "      <td>Tier 3</td>\n",
       "      <td>Grocery Store</td>\n",
       "      <td>732.3800</td>\n",
       "    </tr>\n",
       "    <tr>\n",
       "      <th>NCD19</th>\n",
       "      <td>8.93</td>\n",
       "      <td>Low Fat</td>\n",
       "      <td>0.000000</td>\n",
       "      <td>Household</td>\n",
       "      <td>53.8614</td>\n",
       "      <td>OUT013</td>\n",
       "      <td>1987</td>\n",
       "      <td>High</td>\n",
       "      <td>Tier 3</td>\n",
       "      <td>Supermarket Type1</td>\n",
       "      <td>994.7052</td>\n",
       "    </tr>\n",
       "  </tbody>\n",
       "</table>\n",
       "</div>"
      ],
      "text/plain": [
       "                 Item_Weight Item_Fat_Content  Item_Visibility  \\\n",
       "Item_Identifier                                                  \n",
       "FDA15                   9.30          Low Fat         0.016047   \n",
       "DRC01                   5.92          Regular         0.019278   \n",
       "FDN15                  17.50          Low Fat         0.016760   \n",
       "FDX07                  19.20          Regular         0.000000   \n",
       "NCD19                   8.93          Low Fat         0.000000   \n",
       "\n",
       "                             Item_Type  Item_MRP Outlet_Identifier  \\\n",
       "Item_Identifier                                                      \n",
       "FDA15                            Dairy  249.8092            OUT049   \n",
       "DRC01                      Soft Drinks   48.2692            OUT018   \n",
       "FDN15                             Meat  141.6180            OUT049   \n",
       "FDX07            Fruits and Vegetables  182.0950            OUT010   \n",
       "NCD19                        Household   53.8614            OUT013   \n",
       "\n",
       "                 Outlet_Establishment_Year Outlet_Size Outlet_Location_Type  \\\n",
       "Item_Identifier                                                               \n",
       "FDA15                                 1999      Medium               Tier 1   \n",
       "DRC01                                 2009      Medium               Tier 3   \n",
       "FDN15                                 1999      Medium               Tier 1   \n",
       "FDX07                                 1998         NaN               Tier 3   \n",
       "NCD19                                 1987        High               Tier 3   \n",
       "\n",
       "                       Outlet_Type  Item_Outlet_Sales  \n",
       "Item_Identifier                                        \n",
       "FDA15            Supermarket Type1          3735.1380  \n",
       "DRC01            Supermarket Type2           443.4228  \n",
       "FDN15            Supermarket Type1          2097.2700  \n",
       "FDX07                Grocery Store           732.3800  \n",
       "NCD19            Supermarket Type1           994.7052  "
      ]
     },
     "execution_count": 4,
     "metadata": {},
     "output_type": "execute_result"
    }
   ],
   "source": [
    "#dont run\n",
    "df1 = pd.read_csv('Train_BigMart.csv', header=[0],index_col=[0])\n",
    "df1.head()\n",
    "#specifying 1st column should be taken as index\n",
    "#and first row contains headers"
   ]
  },
  {
   "cell_type": "markdown",
   "metadata": {},
   "source": [
    "### Getting Summaries"
   ]
  },
  {
   "cell_type": "code",
   "execution_count": 5,
   "metadata": {},
   "outputs": [
    {
     "data": {
      "text/plain": [
       "Item_Identifier               object\n",
       "Item_Weight                  float64\n",
       "Item_Fat_Content              object\n",
       "Item_Visibility              float64\n",
       "Item_Type                     object\n",
       "Item_MRP                     float64\n",
       "Outlet_Identifier             object\n",
       "Outlet_Establishment_Year      int64\n",
       "Outlet_Size                   object\n",
       "Outlet_Location_Type          object\n",
       "Outlet_Type                   object\n",
       "Item_Outlet_Sales            float64\n",
       "dtype: object"
      ]
     },
     "execution_count": 5,
     "metadata": {},
     "output_type": "execute_result"
    }
   ],
   "source": [
    "df.dtypes\n",
    "#show datatypes"
   ]
  },
  {
   "cell_type": "code",
   "execution_count": 6,
   "metadata": {
    "scrolled": true
   },
   "outputs": [
    {
     "data": {
      "text/html": [
       "<div>\n",
       "<style scoped>\n",
       "    .dataframe tbody tr th:only-of-type {\n",
       "        vertical-align: middle;\n",
       "    }\n",
       "\n",
       "    .dataframe tbody tr th {\n",
       "        vertical-align: top;\n",
       "    }\n",
       "\n",
       "    .dataframe thead th {\n",
       "        text-align: right;\n",
       "    }\n",
       "</style>\n",
       "<table border=\"1\" class=\"dataframe\">\n",
       "  <thead>\n",
       "    <tr style=\"text-align: right;\">\n",
       "      <th></th>\n",
       "      <th>Item_Weight</th>\n",
       "      <th>Item_Visibility</th>\n",
       "      <th>Item_MRP</th>\n",
       "      <th>Outlet_Establishment_Year</th>\n",
       "      <th>Item_Outlet_Sales</th>\n",
       "    </tr>\n",
       "  </thead>\n",
       "  <tbody>\n",
       "    <tr>\n",
       "      <th>count</th>\n",
       "      <td>7060.000000</td>\n",
       "      <td>8523.000000</td>\n",
       "      <td>8523.000000</td>\n",
       "      <td>8523.000000</td>\n",
       "      <td>8523.000000</td>\n",
       "    </tr>\n",
       "    <tr>\n",
       "      <th>mean</th>\n",
       "      <td>12.857645</td>\n",
       "      <td>0.066132</td>\n",
       "      <td>140.992782</td>\n",
       "      <td>1997.831867</td>\n",
       "      <td>2181.288914</td>\n",
       "    </tr>\n",
       "    <tr>\n",
       "      <th>std</th>\n",
       "      <td>4.643456</td>\n",
       "      <td>0.051598</td>\n",
       "      <td>62.275067</td>\n",
       "      <td>8.371760</td>\n",
       "      <td>1706.499616</td>\n",
       "    </tr>\n",
       "    <tr>\n",
       "      <th>min</th>\n",
       "      <td>4.555000</td>\n",
       "      <td>0.000000</td>\n",
       "      <td>31.290000</td>\n",
       "      <td>1985.000000</td>\n",
       "      <td>33.290000</td>\n",
       "    </tr>\n",
       "    <tr>\n",
       "      <th>25%</th>\n",
       "      <td>8.773750</td>\n",
       "      <td>0.026989</td>\n",
       "      <td>93.826500</td>\n",
       "      <td>1987.000000</td>\n",
       "      <td>834.247400</td>\n",
       "    </tr>\n",
       "    <tr>\n",
       "      <th>50%</th>\n",
       "      <td>12.600000</td>\n",
       "      <td>0.053931</td>\n",
       "      <td>143.012800</td>\n",
       "      <td>1999.000000</td>\n",
       "      <td>1794.331000</td>\n",
       "    </tr>\n",
       "    <tr>\n",
       "      <th>75%</th>\n",
       "      <td>16.850000</td>\n",
       "      <td>0.094585</td>\n",
       "      <td>185.643700</td>\n",
       "      <td>2004.000000</td>\n",
       "      <td>3101.296400</td>\n",
       "    </tr>\n",
       "    <tr>\n",
       "      <th>max</th>\n",
       "      <td>21.350000</td>\n",
       "      <td>0.328391</td>\n",
       "      <td>266.888400</td>\n",
       "      <td>2009.000000</td>\n",
       "      <td>13086.964800</td>\n",
       "    </tr>\n",
       "  </tbody>\n",
       "</table>\n",
       "</div>"
      ],
      "text/plain": [
       "       Item_Weight  Item_Visibility     Item_MRP  Outlet_Establishment_Year  \\\n",
       "count  7060.000000      8523.000000  8523.000000                8523.000000   \n",
       "mean     12.857645         0.066132   140.992782                1997.831867   \n",
       "std       4.643456         0.051598    62.275067                   8.371760   \n",
       "min       4.555000         0.000000    31.290000                1985.000000   \n",
       "25%       8.773750         0.026989    93.826500                1987.000000   \n",
       "50%      12.600000         0.053931   143.012800                1999.000000   \n",
       "75%      16.850000         0.094585   185.643700                2004.000000   \n",
       "max      21.350000         0.328391   266.888400                2009.000000   \n",
       "\n",
       "       Item_Outlet_Sales  \n",
       "count        8523.000000  \n",
       "mean         2181.288914  \n",
       "std          1706.499616  \n",
       "min            33.290000  \n",
       "25%           834.247400  \n",
       "50%          1794.331000  \n",
       "75%          3101.296400  \n",
       "max         13086.964800  "
      ]
     },
     "execution_count": 6,
     "metadata": {},
     "output_type": "execute_result"
    }
   ],
   "source": [
    "df.describe()\n",
    "#gives descriptive stats of numerical columns"
   ]
  },
  {
   "cell_type": "code",
   "execution_count": 7,
   "metadata": {},
   "outputs": [
    {
     "name": "stdout",
     "output_type": "stream",
     "text": [
      "<class 'pandas.core.frame.DataFrame'>\n",
      "RangeIndex: 8523 entries, 0 to 8522\n",
      "Data columns (total 12 columns):\n",
      " #   Column                     Non-Null Count  Dtype  \n",
      "---  ------                     --------------  -----  \n",
      " 0   Item_Identifier            8523 non-null   object \n",
      " 1   Item_Weight                7060 non-null   float64\n",
      " 2   Item_Fat_Content           8523 non-null   object \n",
      " 3   Item_Visibility            8523 non-null   float64\n",
      " 4   Item_Type                  8523 non-null   object \n",
      " 5   Item_MRP                   8523 non-null   float64\n",
      " 6   Outlet_Identifier          8523 non-null   object \n",
      " 7   Outlet_Establishment_Year  8523 non-null   int64  \n",
      " 8   Outlet_Size                6113 non-null   object \n",
      " 9   Outlet_Location_Type       8523 non-null   object \n",
      " 10  Outlet_Type                8523 non-null   object \n",
      " 11  Item_Outlet_Sales          8523 non-null   float64\n",
      "dtypes: float64(4), int64(1), object(7)\n",
      "memory usage: 799.2+ KB\n"
     ]
    }
   ],
   "source": [
    "df.info()"
   ]
  },
  {
   "cell_type": "markdown",
   "metadata": {},
   "source": [
    "### Input Missing Values"
   ]
  },
  {
   "cell_type": "code",
   "execution_count": 2,
   "metadata": {},
   "outputs": [
    {
     "data": {
      "text/plain": [
       "Item_Identifier                 0\n",
       "Item_Weight                  1463\n",
       "Item_Fat_Content                0\n",
       "Item_Visibility                 0\n",
       "Item_Type                       0\n",
       "Item_MRP                        0\n",
       "Outlet_Identifier               0\n",
       "Outlet_Establishment_Year       0\n",
       "Outlet_Size                  2410\n",
       "Outlet_Location_Type            0\n",
       "Outlet_Type                     0\n",
       "Item_Outlet_Sales               0\n",
       "dtype: int64"
      ]
     },
     "execution_count": 2,
     "metadata": {},
     "output_type": "execute_result"
    }
   ],
   "source": [
    "df.isnull().sum()"
   ]
  },
  {
   "cell_type": "code",
   "execution_count": 62,
   "metadata": {},
   "outputs": [],
   "source": [
    "#missing values in Item Weight and Outlet Size needs to be imputed\n",
    "\n",
    "mean_wt = df['Item_Weight'].mean()\n",
    "df['Item_Weight'].fillna(mean_wt, inplace=True)"
   ]
  },
  {
   "cell_type": "code",
   "execution_count": 63,
   "metadata": {},
   "outputs": [],
   "source": [
    "#outlet size is categorical, so using mode\n",
    "#filling with mode_outlet[0] -> 1st value\n",
    "\n",
    "mode_outlet = df['Outlet_Size'].mode()\n",
    "df['Outlet_Size'].fillna(mode_outlet[0], inplace=True)"
   ]
  },
  {
   "cell_type": "code",
   "execution_count": 14,
   "metadata": {},
   "outputs": [
    {
     "name": "stdout",
     "output_type": "stream",
     "text": [
      "<class 'pandas.core.frame.DataFrame'>\n",
      "RangeIndex: 8523 entries, 0 to 8522\n",
      "Data columns (total 12 columns):\n",
      " #   Column                     Non-Null Count  Dtype  \n",
      "---  ------                     --------------  -----  \n",
      " 0   Item_Identifier            8523 non-null   object \n",
      " 1   Item_Weight                8523 non-null   float64\n",
      " 2   Item_Fat_Content           8523 non-null   object \n",
      " 3   Item_Visibility            8523 non-null   float64\n",
      " 4   Item_Type                  8523 non-null   object \n",
      " 5   Item_MRP                   8523 non-null   float64\n",
      " 6   Outlet_Identifier          8523 non-null   object \n",
      " 7   Outlet_Establishment_Year  8523 non-null   int64  \n",
      " 8   Outlet_Size                8523 non-null   object \n",
      " 9   Outlet_Location_Type       8523 non-null   object \n",
      " 10  Outlet_Type                8523 non-null   object \n",
      " 11  Item_Outlet_Sales          8523 non-null   float64\n",
      "dtypes: float64(4), int64(1), object(7)\n",
      "memory usage: 799.2+ KB\n"
     ]
    }
   ],
   "source": [
    "df.info()"
   ]
  },
  {
   "cell_type": "markdown",
   "metadata": {},
   "source": [
    "### Dealing with categorical variables"
   ]
  },
  {
   "cell_type": "code",
   "execution_count": 111,
   "metadata": {},
   "outputs": [
    {
     "data": {
      "text/plain": [
       "array([1999, 2009, 1998, 1987, 1985, 2002, 2007, 1997, 2004], dtype=int64)"
      ]
     },
     "execution_count": 111,
     "metadata": {},
     "output_type": "execute_result"
    }
   ],
   "source": [
    "df['Outlet_Establishment_Year'].unique()"
   ]
  },
  {
   "cell_type": "code",
   "execution_count": 64,
   "metadata": {
    "scrolled": true
   },
   "outputs": [
    {
     "data": {
      "text/html": [
       "<div>\n",
       "<style scoped>\n",
       "    .dataframe tbody tr th:only-of-type {\n",
       "        vertical-align: middle;\n",
       "    }\n",
       "\n",
       "    .dataframe tbody tr th {\n",
       "        vertical-align: top;\n",
       "    }\n",
       "\n",
       "    .dataframe thead th {\n",
       "        text-align: right;\n",
       "    }\n",
       "</style>\n",
       "<table border=\"1\" class=\"dataframe\">\n",
       "  <thead>\n",
       "    <tr style=\"text-align: right;\">\n",
       "      <th></th>\n",
       "      <th>Item_Weight</th>\n",
       "      <th>Item_Visibility</th>\n",
       "      <th>Item_MRP</th>\n",
       "      <th>Item_Outlet_Sales</th>\n",
       "      <th>Item_Fat_Content_LF</th>\n",
       "      <th>Item_Fat_Content_Low Fat</th>\n",
       "      <th>Item_Fat_Content_Regular</th>\n",
       "      <th>Item_Fat_Content_low fat</th>\n",
       "      <th>Item_Fat_Content_reg</th>\n",
       "      <th>Item_Type_Baking Goods</th>\n",
       "      <th>...</th>\n",
       "      <th>Outlet_Size_High</th>\n",
       "      <th>Outlet_Size_Medium</th>\n",
       "      <th>Outlet_Size_Small</th>\n",
       "      <th>Outlet_Location_Type_Tier 1</th>\n",
       "      <th>Outlet_Location_Type_Tier 2</th>\n",
       "      <th>Outlet_Location_Type_Tier 3</th>\n",
       "      <th>Outlet_Type_Grocery Store</th>\n",
       "      <th>Outlet_Type_Supermarket Type1</th>\n",
       "      <th>Outlet_Type_Supermarket Type2</th>\n",
       "      <th>Outlet_Type_Supermarket Type3</th>\n",
       "    </tr>\n",
       "  </thead>\n",
       "  <tbody>\n",
       "    <tr>\n",
       "      <th>0</th>\n",
       "      <td>9.30</td>\n",
       "      <td>0.016047</td>\n",
       "      <td>249.8092</td>\n",
       "      <td>3735.1380</td>\n",
       "      <td>0</td>\n",
       "      <td>1</td>\n",
       "      <td>0</td>\n",
       "      <td>0</td>\n",
       "      <td>0</td>\n",
       "      <td>0</td>\n",
       "      <td>...</td>\n",
       "      <td>0</td>\n",
       "      <td>1</td>\n",
       "      <td>0</td>\n",
       "      <td>1</td>\n",
       "      <td>0</td>\n",
       "      <td>0</td>\n",
       "      <td>0</td>\n",
       "      <td>1</td>\n",
       "      <td>0</td>\n",
       "      <td>0</td>\n",
       "    </tr>\n",
       "    <tr>\n",
       "      <th>1</th>\n",
       "      <td>5.92</td>\n",
       "      <td>0.019278</td>\n",
       "      <td>48.2692</td>\n",
       "      <td>443.4228</td>\n",
       "      <td>0</td>\n",
       "      <td>0</td>\n",
       "      <td>1</td>\n",
       "      <td>0</td>\n",
       "      <td>0</td>\n",
       "      <td>0</td>\n",
       "      <td>...</td>\n",
       "      <td>0</td>\n",
       "      <td>1</td>\n",
       "      <td>0</td>\n",
       "      <td>0</td>\n",
       "      <td>0</td>\n",
       "      <td>1</td>\n",
       "      <td>0</td>\n",
       "      <td>0</td>\n",
       "      <td>1</td>\n",
       "      <td>0</td>\n",
       "    </tr>\n",
       "    <tr>\n",
       "      <th>2</th>\n",
       "      <td>17.50</td>\n",
       "      <td>0.016760</td>\n",
       "      <td>141.6180</td>\n",
       "      <td>2097.2700</td>\n",
       "      <td>0</td>\n",
       "      <td>1</td>\n",
       "      <td>0</td>\n",
       "      <td>0</td>\n",
       "      <td>0</td>\n",
       "      <td>0</td>\n",
       "      <td>...</td>\n",
       "      <td>0</td>\n",
       "      <td>1</td>\n",
       "      <td>0</td>\n",
       "      <td>1</td>\n",
       "      <td>0</td>\n",
       "      <td>0</td>\n",
       "      <td>0</td>\n",
       "      <td>1</td>\n",
       "      <td>0</td>\n",
       "      <td>0</td>\n",
       "    </tr>\n",
       "    <tr>\n",
       "      <th>3</th>\n",
       "      <td>19.20</td>\n",
       "      <td>0.000000</td>\n",
       "      <td>182.0950</td>\n",
       "      <td>732.3800</td>\n",
       "      <td>0</td>\n",
       "      <td>0</td>\n",
       "      <td>1</td>\n",
       "      <td>0</td>\n",
       "      <td>0</td>\n",
       "      <td>0</td>\n",
       "      <td>...</td>\n",
       "      <td>0</td>\n",
       "      <td>1</td>\n",
       "      <td>0</td>\n",
       "      <td>0</td>\n",
       "      <td>0</td>\n",
       "      <td>1</td>\n",
       "      <td>1</td>\n",
       "      <td>0</td>\n",
       "      <td>0</td>\n",
       "      <td>0</td>\n",
       "    </tr>\n",
       "    <tr>\n",
       "      <th>4</th>\n",
       "      <td>8.93</td>\n",
       "      <td>0.000000</td>\n",
       "      <td>53.8614</td>\n",
       "      <td>994.7052</td>\n",
       "      <td>0</td>\n",
       "      <td>1</td>\n",
       "      <td>0</td>\n",
       "      <td>0</td>\n",
       "      <td>0</td>\n",
       "      <td>0</td>\n",
       "      <td>...</td>\n",
       "      <td>1</td>\n",
       "      <td>0</td>\n",
       "      <td>0</td>\n",
       "      <td>0</td>\n",
       "      <td>0</td>\n",
       "      <td>1</td>\n",
       "      <td>0</td>\n",
       "      <td>1</td>\n",
       "      <td>0</td>\n",
       "      <td>0</td>\n",
       "    </tr>\n",
       "  </tbody>\n",
       "</table>\n",
       "<p>5 rows × 35 columns</p>\n",
       "</div>"
      ],
      "text/plain": [
       "   Item_Weight  Item_Visibility  Item_MRP  Item_Outlet_Sales  \\\n",
       "0         9.30         0.016047  249.8092          3735.1380   \n",
       "1         5.92         0.019278   48.2692           443.4228   \n",
       "2        17.50         0.016760  141.6180          2097.2700   \n",
       "3        19.20         0.000000  182.0950           732.3800   \n",
       "4         8.93         0.000000   53.8614           994.7052   \n",
       "\n",
       "   Item_Fat_Content_LF  Item_Fat_Content_Low Fat  Item_Fat_Content_Regular  \\\n",
       "0                    0                         1                         0   \n",
       "1                    0                         0                         1   \n",
       "2                    0                         1                         0   \n",
       "3                    0                         0                         1   \n",
       "4                    0                         1                         0   \n",
       "\n",
       "   Item_Fat_Content_low fat  Item_Fat_Content_reg  Item_Type_Baking Goods  \\\n",
       "0                         0                     0                       0   \n",
       "1                         0                     0                       0   \n",
       "2                         0                     0                       0   \n",
       "3                         0                     0                       0   \n",
       "4                         0                     0                       0   \n",
       "\n",
       "   ...  Outlet_Size_High  Outlet_Size_Medium  Outlet_Size_Small  \\\n",
       "0  ...                 0                   1                  0   \n",
       "1  ...                 0                   1                  0   \n",
       "2  ...                 0                   1                  0   \n",
       "3  ...                 0                   1                  0   \n",
       "4  ...                 1                   0                  0   \n",
       "\n",
       "   Outlet_Location_Type_Tier 1  Outlet_Location_Type_Tier 2  \\\n",
       "0                            1                            0   \n",
       "1                            0                            0   \n",
       "2                            1                            0   \n",
       "3                            0                            0   \n",
       "4                            0                            0   \n",
       "\n",
       "   Outlet_Location_Type_Tier 3  Outlet_Type_Grocery Store  \\\n",
       "0                            0                          0   \n",
       "1                            1                          0   \n",
       "2                            0                          0   \n",
       "3                            1                          1   \n",
       "4                            1                          0   \n",
       "\n",
       "   Outlet_Type_Supermarket Type1  Outlet_Type_Supermarket Type2  \\\n",
       "0                              1                              0   \n",
       "1                              0                              1   \n",
       "2                              1                              0   \n",
       "3                              0                              0   \n",
       "4                              1                              0   \n",
       "\n",
       "   Outlet_Type_Supermarket Type3  \n",
       "0                              0  \n",
       "1                              0  \n",
       "2                              0  \n",
       "3                              0  \n",
       "4                              0  \n",
       "\n",
       "[5 rows x 35 columns]"
      ]
     },
     "execution_count": 64,
     "metadata": {},
     "output_type": "execute_result"
    }
   ],
   "source": [
    "#dropping 3 columns as not reqd\n",
    "#get_dummies() will automatically break categorical column and assign its contents 0 (if absent) or 1 (if present)\n",
    "\n",
    "df.drop(['Item_Identifier','Outlet_Identifier','Outlet_Establishment_Year'], axis=1,inplace=True)\n",
    "df=pd.get_dummies(df)\n",
    "df.head(5)"
   ]
  },
  {
   "cell_type": "code",
   "execution_count": 6,
   "metadata": {},
   "outputs": [
    {
     "data": {
      "text/plain": [
       "array([0, 1], dtype=uint8)"
      ]
     },
     "execution_count": 6,
     "metadata": {},
     "output_type": "execute_result"
    }
   ],
   "source": [
    "df['Item_Fat_Content_LF'].unique() "
   ]
  },
  {
   "cell_type": "markdown",
   "metadata": {},
   "source": [
    "### Create Train and Test Sets"
   ]
  },
  {
   "cell_type": "code",
   "execution_count": 65,
   "metadata": {},
   "outputs": [],
   "source": [
    "from sklearn.model_selection import train_test_split as tts\n",
    "\n",
    "train, valid = tts(df, train_size=0.7)\n",
    "\n",
    "x_train = train.drop('Item_Outlet_Sales',axis=1)\n",
    "y_train = train['Item_Outlet_Sales']\n",
    "\n",
    "x_valid = valid.drop('Item_Outlet_Sales',axis=1)\n",
    "y_valid = valid['Item_Outlet_Sales']"
   ]
  },
  {
   "cell_type": "code",
   "execution_count": 7,
   "metadata": {},
   "outputs": [
    {
     "name": "stdout",
     "output_type": "stream",
     "text": [
      "<class 'pandas.core.frame.DataFrame'>\n",
      "Int64Index: 5966 entries, 7867 to 3125\n",
      "Data columns (total 35 columns):\n",
      " #   Column                           Non-Null Count  Dtype  \n",
      "---  ------                           --------------  -----  \n",
      " 0   Item_Weight                      5966 non-null   float64\n",
      " 1   Item_Visibility                  5966 non-null   float64\n",
      " 2   Item_MRP                         5966 non-null   float64\n",
      " 3   Item_Outlet_Sales                5966 non-null   float64\n",
      " 4   Item_Fat_Content_LF              5966 non-null   uint8  \n",
      " 5   Item_Fat_Content_Low Fat         5966 non-null   uint8  \n",
      " 6   Item_Fat_Content_Regular         5966 non-null   uint8  \n",
      " 7   Item_Fat_Content_low fat         5966 non-null   uint8  \n",
      " 8   Item_Fat_Content_reg             5966 non-null   uint8  \n",
      " 9   Item_Type_Baking Goods           5966 non-null   uint8  \n",
      " 10  Item_Type_Breads                 5966 non-null   uint8  \n",
      " 11  Item_Type_Breakfast              5966 non-null   uint8  \n",
      " 12  Item_Type_Canned                 5966 non-null   uint8  \n",
      " 13  Item_Type_Dairy                  5966 non-null   uint8  \n",
      " 14  Item_Type_Frozen Foods           5966 non-null   uint8  \n",
      " 15  Item_Type_Fruits and Vegetables  5966 non-null   uint8  \n",
      " 16  Item_Type_Hard Drinks            5966 non-null   uint8  \n",
      " 17  Item_Type_Health and Hygiene     5966 non-null   uint8  \n",
      " 18  Item_Type_Household              5966 non-null   uint8  \n",
      " 19  Item_Type_Meat                   5966 non-null   uint8  \n",
      " 20  Item_Type_Others                 5966 non-null   uint8  \n",
      " 21  Item_Type_Seafood                5966 non-null   uint8  \n",
      " 22  Item_Type_Snack Foods            5966 non-null   uint8  \n",
      " 23  Item_Type_Soft Drinks            5966 non-null   uint8  \n",
      " 24  Item_Type_Starchy Foods          5966 non-null   uint8  \n",
      " 25  Outlet_Size_High                 5966 non-null   uint8  \n",
      " 26  Outlet_Size_Medium               5966 non-null   uint8  \n",
      " 27  Outlet_Size_Small                5966 non-null   uint8  \n",
      " 28  Outlet_Location_Type_Tier 1      5966 non-null   uint8  \n",
      " 29  Outlet_Location_Type_Tier 2      5966 non-null   uint8  \n",
      " 30  Outlet_Location_Type_Tier 3      5966 non-null   uint8  \n",
      " 31  Outlet_Type_Grocery Store        5966 non-null   uint8  \n",
      " 32  Outlet_Type_Supermarket Type1    5966 non-null   uint8  \n",
      " 33  Outlet_Type_Supermarket Type2    5966 non-null   uint8  \n",
      " 34  Outlet_Type_Supermarket Type3    5966 non-null   uint8  \n",
      "dtypes: float64(4), uint8(31)\n",
      "memory usage: 413.7 KB\n"
     ]
    }
   ],
   "source": [
    "train.info()"
   ]
  },
  {
   "cell_type": "code",
   "execution_count": 8,
   "metadata": {},
   "outputs": [
    {
     "name": "stdout",
     "output_type": "stream",
     "text": [
      "<class 'pandas.core.frame.DataFrame'>\n",
      "Int64Index: 2557 entries, 8365 to 1971\n",
      "Data columns (total 35 columns):\n",
      " #   Column                           Non-Null Count  Dtype  \n",
      "---  ------                           --------------  -----  \n",
      " 0   Item_Weight                      2557 non-null   float64\n",
      " 1   Item_Visibility                  2557 non-null   float64\n",
      " 2   Item_MRP                         2557 non-null   float64\n",
      " 3   Item_Outlet_Sales                2557 non-null   float64\n",
      " 4   Item_Fat_Content_LF              2557 non-null   uint8  \n",
      " 5   Item_Fat_Content_Low Fat         2557 non-null   uint8  \n",
      " 6   Item_Fat_Content_Regular         2557 non-null   uint8  \n",
      " 7   Item_Fat_Content_low fat         2557 non-null   uint8  \n",
      " 8   Item_Fat_Content_reg             2557 non-null   uint8  \n",
      " 9   Item_Type_Baking Goods           2557 non-null   uint8  \n",
      " 10  Item_Type_Breads                 2557 non-null   uint8  \n",
      " 11  Item_Type_Breakfast              2557 non-null   uint8  \n",
      " 12  Item_Type_Canned                 2557 non-null   uint8  \n",
      " 13  Item_Type_Dairy                  2557 non-null   uint8  \n",
      " 14  Item_Type_Frozen Foods           2557 non-null   uint8  \n",
      " 15  Item_Type_Fruits and Vegetables  2557 non-null   uint8  \n",
      " 16  Item_Type_Hard Drinks            2557 non-null   uint8  \n",
      " 17  Item_Type_Health and Hygiene     2557 non-null   uint8  \n",
      " 18  Item_Type_Household              2557 non-null   uint8  \n",
      " 19  Item_Type_Meat                   2557 non-null   uint8  \n",
      " 20  Item_Type_Others                 2557 non-null   uint8  \n",
      " 21  Item_Type_Seafood                2557 non-null   uint8  \n",
      " 22  Item_Type_Snack Foods            2557 non-null   uint8  \n",
      " 23  Item_Type_Soft Drinks            2557 non-null   uint8  \n",
      " 24  Item_Type_Starchy Foods          2557 non-null   uint8  \n",
      " 25  Outlet_Size_High                 2557 non-null   uint8  \n",
      " 26  Outlet_Size_Medium               2557 non-null   uint8  \n",
      " 27  Outlet_Size_Small                2557 non-null   uint8  \n",
      " 28  Outlet_Location_Type_Tier 1      2557 non-null   uint8  \n",
      " 29  Outlet_Location_Type_Tier 2      2557 non-null   uint8  \n",
      " 30  Outlet_Location_Type_Tier 3      2557 non-null   uint8  \n",
      " 31  Outlet_Type_Grocery Store        2557 non-null   uint8  \n",
      " 32  Outlet_Type_Supermarket Type1    2557 non-null   uint8  \n",
      " 33  Outlet_Type_Supermarket Type2    2557 non-null   uint8  \n",
      " 34  Outlet_Type_Supermarket Type3    2557 non-null   uint8  \n",
      "dtypes: float64(4), uint8(31)\n",
      "memory usage: 177.3 KB\n"
     ]
    }
   ],
   "source": [
    "valid.info()"
   ]
  },
  {
   "cell_type": "markdown",
   "metadata": {},
   "source": [
    "### Running the Algorithm"
   ]
  },
  {
   "cell_type": "code",
   "execution_count": 66,
   "metadata": {},
   "outputs": [],
   "source": [
    "from sklearn.neighbors import KNeighborsRegressor as KNR\n",
    "from sklearn.metrics import mean_squared_error\n",
    "from math import sqrt"
   ]
  },
  {
   "cell_type": "code",
   "execution_count": 67,
   "metadata": {},
   "outputs": [],
   "source": [
    "#Running KNR process with 3 neighbors\n",
    "\n",
    "model = KNR(n_neighbors=3)"
   ]
  },
  {
   "cell_type": "code",
   "execution_count": 68,
   "metadata": {
    "scrolled": true
   },
   "outputs": [
    {
     "data": {
      "text/plain": [
       "KNeighborsRegressor(algorithm='auto', leaf_size=30, metric='minkowski',\n",
       "                    metric_params=None, n_jobs=None, n_neighbors=3, p=2,\n",
       "                    weights='uniform')"
      ]
     },
     "execution_count": 68,
     "metadata": {},
     "output_type": "execute_result"
    }
   ],
   "source": [
    "model.fit(x_train, y_train)"
   ]
  },
  {
   "cell_type": "code",
   "execution_count": 69,
   "metadata": {},
   "outputs": [],
   "source": [
    "y_pred=model.predict(x_valid)"
   ]
  },
  {
   "cell_type": "code",
   "execution_count": 70,
   "metadata": {},
   "outputs": [
    {
     "name": "stdout",
     "output_type": "stream",
     "text": [
      "[3064.0116     1794.10906667 4655.49553333 2162.5184     1388.63686667\n",
      " 1629.8784     3858.08906667  792.302      5546.33593333 4161.9158    ]\n"
     ]
    }
   ],
   "source": [
    "print(y_pred[0:10])"
   ]
  },
  {
   "cell_type": "code",
   "execution_count": 71,
   "metadata": {},
   "outputs": [
    {
     "name": "stdout",
     "output_type": "stream",
     "text": [
      "1347.9849027954854\n"
     ]
    }
   ],
   "source": [
    "#calculate rmse\n",
    "error = sqrt(mean_squared_error(y_valid,y_pred))\n",
    "print(error)"
   ]
  },
  {
   "cell_type": "markdown",
   "metadata": {},
   "source": [
    "#### So MSE is 1347.9 when k=3."
   ]
  },
  {
   "cell_type": "code",
   "execution_count": 72,
   "metadata": {},
   "outputs": [
    {
     "name": "stdout",
     "output_type": "stream",
     "text": [
      "RMSE value for k =  1  is:  1637.7887125420366\n",
      "RMSE value for k =  2  is:  1410.3951795588732\n",
      "RMSE value for k =  3  is:  1347.9849027954854\n",
      "RMSE value for k =  4  is:  1312.7269700070433\n",
      "RMSE value for k =  5  is:  1290.9710804478436\n",
      "RMSE value for k =  6  is:  1282.2425977435112\n",
      "RMSE value for k =  7  is:  1271.783937373707\n",
      "RMSE value for k =  8  is:  1280.2595713082294\n",
      "RMSE value for k =  9  is:  1284.8906951310435\n",
      "RMSE value for k =  10  is:  1290.4455621472284\n",
      "RMSE value for k =  11  is:  1297.587373453524\n",
      "RMSE value for k =  12  is:  1300.3350520121871\n",
      "The minimum error we get is : 1271.783937373707\n",
      "The correponding k value is : 7\n"
     ]
    }
   ],
   "source": [
    "#Now running KNR process for different k values\n",
    "\n",
    "rmse_val_list = []\n",
    "\n",
    "for k in range(12):\n",
    "    k = k+1\n",
    "    model = KNR(n_neighbors=k)\n",
    "    model.fit(x_train, y_train)\n",
    "    y_pred=model.predict(x_valid)\n",
    "    error = sqrt(mean_squared_error(y_valid,y_pred))\n",
    "    print(\"RMSE value for k = \",k,\" is: \", error)\n",
    "    rmse_val_list.append(error) #in empty list appending error values\n",
    "\n",
    "print(\"The minimum error we get is :\", min(rmse_val_list))\n",
    "print(\"The correponding k value is :\", 1+rmse_val_list.index(min(rmse_val_list))) #basic index in list is 0, so add 1\n",
    "\n",
    "#ideal K value will have least error"
   ]
  },
  {
   "cell_type": "markdown",
   "metadata": {},
   "source": [
    "#### Running a loop over k values and finding least error. MSE is 1271.7 when k=7."
   ]
  },
  {
   "cell_type": "code",
   "execution_count": 73,
   "metadata": {},
   "outputs": [
    {
     "name": "stdout",
     "output_type": "stream",
     "text": [
      "The minimum error we get is : 1271.783937373707\n",
      "The correponding k value is : 7\n"
     ]
    }
   ],
   "source": [
    "#how many K to take? √(total number of records)\n",
    "#for valid set -> √2557, so K will take near to 50 values\n",
    "#ideal K value will have least error\n",
    "\n",
    "rmse_val_list = []\n",
    "\n",
    "iter_len=len(x_valid)\n",
    "iter_size=round(sqrt(iter_len))\n",
    "\n",
    "for k in range(iter_size):\n",
    "    k = k+1\n",
    "    model = KNR(n_neighbors=k)\n",
    "    model.fit(x_train, y_train)\n",
    "    y_pred=model.predict(x_valid)\n",
    "    error = sqrt(mean_squared_error(y_valid,y_pred))\n",
    "    #print(\"RMSE value for k = \",k,\" is: \", error)\n",
    "    rmse_val_list.append(error) #in empty list appending error values\n",
    "\n",
    "print(\"The minimum error we get is :\", min(rmse_val_list))\n",
    "print(\"The correponding k value is :\", 1+rmse_val_list.index(min(rmse_val_list))) #basic index in list is 0, so add 1"
   ]
  },
  {
   "cell_type": "markdown",
   "metadata": {},
   "source": [
    "# Checkpoint 2"
   ]
  },
  {
   "cell_type": "markdown",
   "metadata": {},
   "source": [
    "Now we will do some pre-processing, take dummies for categorical variables, drop the first column, and then try to check for which value of k model gives least error. Also we will do some scaling."
   ]
  },
  {
   "cell_type": "markdown",
   "metadata": {},
   "source": [
    "### Preprocessing - Data Engineering"
   ]
  },
  {
   "cell_type": "markdown",
   "metadata": {},
   "source": [
    "#### Drop Columns"
   ]
  },
  {
   "cell_type": "code",
   "execution_count": 74,
   "metadata": {},
   "outputs": [
    {
     "name": "stdout",
     "output_type": "stream",
     "text": [
      "<class 'pandas.core.frame.DataFrame'>\n",
      "RangeIndex: 8523 entries, 0 to 8522\n",
      "Data columns (total 10 columns):\n",
      " #   Column                     Non-Null Count  Dtype  \n",
      "---  ------                     --------------  -----  \n",
      " 0   Item_Weight                7060 non-null   float64\n",
      " 1   Item_Fat_Content           8523 non-null   object \n",
      " 2   Item_Visibility            8523 non-null   float64\n",
      " 3   Item_Type                  8523 non-null   object \n",
      " 4   Item_MRP                   8523 non-null   float64\n",
      " 5   Outlet_Establishment_Year  8523 non-null   int64  \n",
      " 6   Outlet_Size                6113 non-null   object \n",
      " 7   Outlet_Location_Type       8523 non-null   object \n",
      " 8   Outlet_Type                8523 non-null   object \n",
      " 9   Item_Outlet_Sales          8523 non-null   float64\n",
      "dtypes: float64(4), int64(1), object(5)\n",
      "memory usage: 666.0+ KB\n"
     ]
    }
   ],
   "source": [
    "#taking dataset again and do a lot of standardization to see if it improves the model\n",
    "#dropping 2 columns\n",
    "df = pd.read_csv('Train_BigMart.csv')\n",
    "df_clean = df.drop(['Item_Identifier','Outlet_Identifier'], axis=1,inplace=False)\n",
    "df_clean.info()"
   ]
  },
  {
   "cell_type": "code",
   "execution_count": 14,
   "metadata": {},
   "outputs": [
    {
     "data": {
      "text/plain": [
       "Index(['Item_Weight', 'Item_Fat_Content', 'Item_Visibility', 'Item_Type',\n",
       "       'Item_MRP', 'Outlet_Establishment_Year', 'Outlet_Size',\n",
       "       'Outlet_Location_Type', 'Outlet_Type', 'Item_Outlet_Sales'],\n",
       "      dtype='object')"
      ]
     },
     "execution_count": 14,
     "metadata": {},
     "output_type": "execute_result"
    }
   ],
   "source": [
    "df_clean.columns"
   ]
  },
  {
   "cell_type": "code",
   "execution_count": 15,
   "metadata": {},
   "outputs": [
    {
     "data": {
      "text/plain": [
       "Low Fat    5089\n",
       "Regular    2889\n",
       "LF          316\n",
       "reg         117\n",
       "low fat     112\n",
       "Name: Item_Fat_Content, dtype: int64"
      ]
     },
     "execution_count": 15,
     "metadata": {},
     "output_type": "execute_result"
    }
   ],
   "source": [
    "df_clean['Item_Fat_Content'].value_counts()"
   ]
  },
  {
   "cell_type": "code",
   "execution_count": 75,
   "metadata": {},
   "outputs": [
    {
     "data": {
      "text/plain": [
       "Low Fat    5517\n",
       "Regular    3006\n",
       "Name: Item_Fat_Content, dtype: int64"
      ]
     },
     "execution_count": 75,
     "metadata": {},
     "output_type": "execute_result"
    }
   ],
   "source": [
    "#replace reg, LF, low fat\n",
    "df_clean['Item_Fat_Content']=df_clean['Item_Fat_Content'].replace('reg','Regular')\n",
    "df_clean['Item_Fat_Content']=df_clean['Item_Fat_Content'].replace(['LF','low fat'],'Low Fat')\n",
    "df_clean['Item_Fat_Content'].value_counts()"
   ]
  },
  {
   "cell_type": "code",
   "execution_count": 17,
   "metadata": {},
   "outputs": [
    {
     "data": {
      "text/plain": [
       "Fruits and Vegetables    1232\n",
       "Snack Foods              1200\n",
       "Household                 910\n",
       "Frozen Foods              856\n",
       "Dairy                     682\n",
       "Canned                    649\n",
       "Baking Goods              648\n",
       "Health and Hygiene        520\n",
       "Soft Drinks               445\n",
       "Meat                      425\n",
       "Breads                    251\n",
       "Hard Drinks               214\n",
       "Others                    169\n",
       "Starchy Foods             148\n",
       "Breakfast                 110\n",
       "Seafood                    64\n",
       "Name: Item_Type, dtype: int64"
      ]
     },
     "execution_count": 17,
     "metadata": {},
     "output_type": "execute_result"
    }
   ],
   "source": [
    "df_clean['Item_Type'].value_counts()"
   ]
  },
  {
   "cell_type": "code",
   "execution_count": 18,
   "metadata": {},
   "outputs": [
    {
     "data": {
      "text/plain": [
       "Medium    2793\n",
       "Small     2388\n",
       "High       932\n",
       "Name: Outlet_Size, dtype: int64"
      ]
     },
     "execution_count": 18,
     "metadata": {},
     "output_type": "execute_result"
    }
   ],
   "source": [
    "df_clean['Outlet_Size'].value_counts()"
   ]
  },
  {
   "cell_type": "code",
   "execution_count": 19,
   "metadata": {},
   "outputs": [
    {
     "data": {
      "text/plain": [
       "Tier 3    3350\n",
       "Tier 2    2785\n",
       "Tier 1    2388\n",
       "Name: Outlet_Location_Type, dtype: int64"
      ]
     },
     "execution_count": 19,
     "metadata": {},
     "output_type": "execute_result"
    }
   ],
   "source": [
    "df_clean['Outlet_Location_Type'].value_counts()"
   ]
  },
  {
   "cell_type": "code",
   "execution_count": 20,
   "metadata": {},
   "outputs": [
    {
     "data": {
      "text/plain": [
       "Supermarket Type1    5577\n",
       "Grocery Store        1083\n",
       "Supermarket Type3     935\n",
       "Supermarket Type2     928\n",
       "Name: Outlet_Type, dtype: int64"
      ]
     },
     "execution_count": 20,
     "metadata": {},
     "output_type": "execute_result"
    }
   ],
   "source": [
    "df_clean['Outlet_Type'].value_counts()"
   ]
  },
  {
   "cell_type": "code",
   "execution_count": 21,
   "metadata": {},
   "outputs": [
    {
     "data": {
      "text/plain": [
       "Item_Weight                  1463\n",
       "Item_Fat_Content                0\n",
       "Item_Visibility                 0\n",
       "Item_Type                       0\n",
       "Item_MRP                        0\n",
       "Outlet_Establishment_Year       0\n",
       "Outlet_Size                  2410\n",
       "Outlet_Location_Type            0\n",
       "Outlet_Type                     0\n",
       "Item_Outlet_Sales               0\n",
       "dtype: int64"
      ]
     },
     "execution_count": 21,
     "metadata": {},
     "output_type": "execute_result"
    }
   ],
   "source": [
    "df_clean.isnull().sum()"
   ]
  },
  {
   "cell_type": "code",
   "execution_count": 76,
   "metadata": {},
   "outputs": [],
   "source": [
    "mean_wt = df['Item_Weight'].mean()\n",
    "df_clean['Item_Weight'].fillna(mean_wt, inplace=True)\n",
    "\n",
    "mode_outlet = df['Outlet_Size'].mode()\n",
    "df_clean['Outlet_Size'].fillna(mode_outlet[0], inplace=True)"
   ]
  },
  {
   "cell_type": "code",
   "execution_count": 23,
   "metadata": {},
   "outputs": [
    {
     "name": "stdout",
     "output_type": "stream",
     "text": [
      "<class 'pandas.core.frame.DataFrame'>\n",
      "RangeIndex: 8523 entries, 0 to 8522\n",
      "Data columns (total 10 columns):\n",
      " #   Column                     Non-Null Count  Dtype  \n",
      "---  ------                     --------------  -----  \n",
      " 0   Item_Weight                8523 non-null   float64\n",
      " 1   Item_Fat_Content           8523 non-null   object \n",
      " 2   Item_Visibility            8523 non-null   float64\n",
      " 3   Item_Type                  8523 non-null   object \n",
      " 4   Item_MRP                   8523 non-null   float64\n",
      " 5   Outlet_Establishment_Year  8523 non-null   int64  \n",
      " 6   Outlet_Size                8523 non-null   object \n",
      " 7   Outlet_Location_Type       8523 non-null   object \n",
      " 8   Outlet_Type                8523 non-null   object \n",
      " 9   Item_Outlet_Sales          8523 non-null   float64\n",
      "dtypes: float64(4), int64(1), object(5)\n",
      "memory usage: 666.0+ KB\n"
     ]
    }
   ],
   "source": [
    "df_clean.info()"
   ]
  },
  {
   "cell_type": "code",
   "execution_count": 77,
   "metadata": {},
   "outputs": [
    {
     "name": "stdout",
     "output_type": "stream",
     "text": [
      "<class 'pandas.core.frame.DataFrame'>\n",
      "RangeIndex: 8523 entries, 0 to 8522\n",
      "Data columns (total 28 columns):\n",
      " #   Column                           Non-Null Count  Dtype  \n",
      "---  ------                           --------------  -----  \n",
      " 0   Item_Weight                      8523 non-null   float64\n",
      " 1   Item_Visibility                  8523 non-null   float64\n",
      " 2   Item_MRP                         8523 non-null   float64\n",
      " 3   Outlet_Establishment_Year        8523 non-null   int64  \n",
      " 4   Item_Outlet_Sales                8523 non-null   float64\n",
      " 5   Item_Fat_Content_Regular         8523 non-null   uint8  \n",
      " 6   Item_Type_Breads                 8523 non-null   uint8  \n",
      " 7   Item_Type_Breakfast              8523 non-null   uint8  \n",
      " 8   Item_Type_Canned                 8523 non-null   uint8  \n",
      " 9   Item_Type_Dairy                  8523 non-null   uint8  \n",
      " 10  Item_Type_Frozen Foods           8523 non-null   uint8  \n",
      " 11  Item_Type_Fruits and Vegetables  8523 non-null   uint8  \n",
      " 12  Item_Type_Hard Drinks            8523 non-null   uint8  \n",
      " 13  Item_Type_Health and Hygiene     8523 non-null   uint8  \n",
      " 14  Item_Type_Household              8523 non-null   uint8  \n",
      " 15  Item_Type_Meat                   8523 non-null   uint8  \n",
      " 16  Item_Type_Others                 8523 non-null   uint8  \n",
      " 17  Item_Type_Seafood                8523 non-null   uint8  \n",
      " 18  Item_Type_Snack Foods            8523 non-null   uint8  \n",
      " 19  Item_Type_Soft Drinks            8523 non-null   uint8  \n",
      " 20  Item_Type_Starchy Foods          8523 non-null   uint8  \n",
      " 21  Outlet_Size_Medium               8523 non-null   uint8  \n",
      " 22  Outlet_Size_Small                8523 non-null   uint8  \n",
      " 23  Outlet_Location_Type_Tier 2      8523 non-null   uint8  \n",
      " 24  Outlet_Location_Type_Tier 3      8523 non-null   uint8  \n",
      " 25  Outlet_Type_Supermarket Type1    8523 non-null   uint8  \n",
      " 26  Outlet_Type_Supermarket Type2    8523 non-null   uint8  \n",
      " 27  Outlet_Type_Supermarket Type3    8523 non-null   uint8  \n",
      "dtypes: float64(4), int64(1), uint8(23)\n",
      "memory usage: 524.5 KB\n"
     ]
    }
   ],
   "source": [
    "#assign 0 or 1 to n-1 categories of each column\n",
    "df_clean=pd.get_dummies(df_clean, drop_first=True)\n",
    "df_clean.info()"
   ]
  },
  {
   "cell_type": "code",
   "execution_count": 78,
   "metadata": {},
   "outputs": [],
   "source": [
    "from sklearn.model_selection import train_test_split as tts\n",
    "\n",
    "train, valid = tts(df_clean, train_size=0.7)\n",
    "\n",
    "x_train = train.drop('Item_Outlet_Sales',axis=1)\n",
    "y_train = train['Item_Outlet_Sales']\n",
    "\n",
    "x_valid = valid.drop('Item_Outlet_Sales',axis=1)\n",
    "y_valid = valid['Item_Outlet_Sales']"
   ]
  },
  {
   "cell_type": "code",
   "execution_count": 79,
   "metadata": {},
   "outputs": [],
   "source": [
    "#scaling the data\n",
    "#never scale target variable\n",
    "\n",
    "from sklearn.preprocessing import MinMaxScaler\n",
    "scaler = MinMaxScaler(feature_range=(0,1))\n",
    "\n",
    "x_train_scaled = scaler.fit_transform(x_train)\n",
    "X_train = pd.DataFrame(x_train_scaled)\n",
    "\n",
    "x_valid_scaled = scaler.fit_transform(x_valid)\n",
    "X_valid = pd.DataFrame(x_valid_scaled)"
   ]
  },
  {
   "cell_type": "code",
   "execution_count": 80,
   "metadata": {},
   "outputs": [
    {
     "name": "stdout",
     "output_type": "stream",
     "text": [
      "The optimal k value for the KNN is : 9 with minimum error as 1238.5132466126734\n"
     ]
    }
   ],
   "source": [
    "#how many K to take? √(total number of records)\n",
    "#for valid set -> √2557, so K will take near to 50 values\n",
    "\n",
    "iter_len=len(X_valid)\n",
    "iter_size=round(sqrt(iter_len))\n",
    "\n",
    "rmse_val_df = pd.DataFrame(columns=[\"K\",\"Error\"])\n",
    "rmse_val_list = list() #to store rmse values for different K\n",
    "\n",
    "for k in range(iter_size):\n",
    "    k = k+1\n",
    "    model = KNR(n_neighbors=k)\n",
    "    model.fit(X_train, y_train)\n",
    "    y_pred=model.predict(X_valid)\n",
    "    error = sqrt(mean_squared_error(y_valid,y_pred))\n",
    "    #print(\"RMSE value for k = \",k,\" is: \", error)\n",
    "    rmse_val_list.append(error) #in empty list appending error values\n",
    "    rmse_val_df = rmse_val_df.append({'K':k,'Error':error},ignore_index=True) #storing RMSE values in DF\n",
    "\n",
    "min_K = rmse_val_df.loc[rmse_val_df[\"Error\"]==rmse_val_df[\"Error\"].min()]\n",
    "print(\"The optimal k value for the KNN is :\", int(min_K[\"K\"]),\"with minimum error as\", rmse_val_df[\"Error\"].min())\n"
   ]
  },
  {
   "cell_type": "markdown",
   "metadata": {},
   "source": [
    "#### While generating dummy variables for categorical values, we dropped the first columns. Then we did Min Max scaling on non target variables. Now we got MSE as 1238.5 when k = 9."
   ]
  },
  {
   "cell_type": "markdown",
   "metadata": {},
   "source": [
    "## Plotting Values"
   ]
  },
  {
   "cell_type": "code",
   "execution_count": 81,
   "metadata": {},
   "outputs": [],
   "source": [
    "import matplotlib.pyplot as plt\n",
    "%matplotlib inline"
   ]
  },
  {
   "cell_type": "code",
   "execution_count": 82,
   "metadata": {},
   "outputs": [
    {
     "data": {
      "text/plain": [
       "<matplotlib.axes._subplots.AxesSubplot at 0xd1e28b0>"
      ]
     },
     "execution_count": 82,
     "metadata": {},
     "output_type": "execute_result"
    },
    {
     "data": {
      "image/png": "[encoded data removed]",
      "text/plain": [
       "<Figure size 432x288 with 1 Axes>"
      ]
     },
     "metadata": {
      "needs_background": "light"
     },
     "output_type": "display_data"
    }
   ],
   "source": [
    "curve = pd.DataFrame(rmse_val_df).set_index('K')\n",
    "curve.plot()\n",
    "#elbow curve"
   ]
  },
  {
   "cell_type": "markdown",
   "metadata": {},
   "source": [
    "### Doing Grid Search"
   ]
  },
  {
   "cell_type": "code",
   "execution_count": 83,
   "metadata": {},
   "outputs": [],
   "source": [
    "#passing model through diff values of k, and we take whichever gives least error -> previous way\n",
    "#for different folds/values of k, trying to find for which value of k i am getting minm error for all cross valid -> grid way\n",
    "\n",
    "from sklearn.model_selection import GridSearchCV\n",
    "\n",
    "#number_of_neighbours = range(1,200)\n",
    "number_of_neighbors = range(1,iter_size)\n",
    "#iter_size = 51\n",
    "\n",
    "params = {'n_neighbors':number_of_neighbors}\n",
    "\n",
    "#no. of neigh in parameter -> range from 1 to 51\n",
    "#for each value of param it will search entire plane what is the ideal value of k"
   ]
  },
  {
   "cell_type": "code",
   "execution_count": 84,
   "metadata": {},
   "outputs": [
    {
     "data": {
      "text/plain": [
       "GridSearchCV(cv=5, error_score=nan,\n",
       "             estimator=KNeighborsRegressor(algorithm='auto', leaf_size=30,\n",
       "                                           metric='minkowski',\n",
       "                                           metric_params=None, n_jobs=None,\n",
       "                                           n_neighbors=5, p=2,\n",
       "                                           weights='uniform'),\n",
       "             iid='deprecated', n_jobs=None,\n",
       "             param_grid={'n_neighbors': range(1, 51)}, pre_dispatch='2*n_jobs',\n",
       "             refit=True, return_train_score=False, scoring=None, verbose=0)"
      ]
     },
     "execution_count": 84,
     "metadata": {},
     "output_type": "execute_result"
    }
   ],
   "source": [
    "knn = KNR()\n",
    "\n",
    "model = GridSearchCV(knn, params, cv=5)\n",
    "model.fit(X_train,y_train)\n",
    "\n",
    "#divide training data into 5 parts, each having same number of records\n",
    "#for 1st iter, use 1st part for test and rest 4 for train\n",
    "#for 2nd iter, use 2nd part for test and rest 4 for train"
   ]
  },
  {
   "cell_type": "code",
   "execution_count": 85,
   "metadata": {},
   "outputs": [
    {
     "name": "stdout",
     "output_type": "stream",
     "text": [
      "{'n_neighbors': 8}\n"
     ]
    }
   ],
   "source": [
    "print(model.best_params_)\n",
    "#provide best parameter"
   ]
  },
  {
   "cell_type": "markdown",
   "metadata": {},
   "source": [
    "## Using the Model to Predict values on Test Data"
   ]
  },
  {
   "cell_type": "code",
   "execution_count": 94,
   "metadata": {},
   "outputs": [
    {
     "data": {
      "text/html": [
       "<div>\n",
       "<style scoped>\n",
       "    .dataframe tbody tr th:only-of-type {\n",
       "        vertical-align: middle;\n",
       "    }\n",
       "\n",
       "    .dataframe tbody tr th {\n",
       "        vertical-align: top;\n",
       "    }\n",
       "\n",
       "    .dataframe thead th {\n",
       "        text-align: right;\n",
       "    }\n",
       "</style>\n",
       "<table border=\"1\" class=\"dataframe\">\n",
       "  <thead>\n",
       "    <tr style=\"text-align: right;\">\n",
       "      <th></th>\n",
       "      <th>Item_Identifier</th>\n",
       "      <th>Item_Weight</th>\n",
       "      <th>Item_Fat_Content</th>\n",
       "      <th>Item_Visibility</th>\n",
       "      <th>Item_Type</th>\n",
       "      <th>Item_MRP</th>\n",
       "      <th>Outlet_Identifier</th>\n",
       "      <th>Outlet_Establishment_Year</th>\n",
       "      <th>Outlet_Size</th>\n",
       "      <th>Outlet_Location_Type</th>\n",
       "      <th>Outlet_Type</th>\n",
       "    </tr>\n",
       "  </thead>\n",
       "  <tbody>\n",
       "    <tr>\n",
       "      <th>0</th>\n",
       "      <td>FDW58</td>\n",
       "      <td>20.750</td>\n",
       "      <td>Low Fat</td>\n",
       "      <td>0.007565</td>\n",
       "      <td>Snack Foods</td>\n",
       "      <td>107.8622</td>\n",
       "      <td>OUT049</td>\n",
       "      <td>1999</td>\n",
       "      <td>Medium</td>\n",
       "      <td>Tier 1</td>\n",
       "      <td>Supermarket Type1</td>\n",
       "    </tr>\n",
       "    <tr>\n",
       "      <th>1</th>\n",
       "      <td>FDW14</td>\n",
       "      <td>8.300</td>\n",
       "      <td>reg</td>\n",
       "      <td>0.038428</td>\n",
       "      <td>Dairy</td>\n",
       "      <td>87.3198</td>\n",
       "      <td>OUT017</td>\n",
       "      <td>2007</td>\n",
       "      <td>NaN</td>\n",
       "      <td>Tier 2</td>\n",
       "      <td>Supermarket Type1</td>\n",
       "    </tr>\n",
       "    <tr>\n",
       "      <th>2</th>\n",
       "      <td>NCN55</td>\n",
       "      <td>14.600</td>\n",
       "      <td>Low Fat</td>\n",
       "      <td>0.099575</td>\n",
       "      <td>Others</td>\n",
       "      <td>241.7538</td>\n",
       "      <td>OUT010</td>\n",
       "      <td>1998</td>\n",
       "      <td>NaN</td>\n",
       "      <td>Tier 3</td>\n",
       "      <td>Grocery Store</td>\n",
       "    </tr>\n",
       "    <tr>\n",
       "      <th>3</th>\n",
       "      <td>FDQ58</td>\n",
       "      <td>7.315</td>\n",
       "      <td>Low Fat</td>\n",
       "      <td>0.015388</td>\n",
       "      <td>Snack Foods</td>\n",
       "      <td>155.0340</td>\n",
       "      <td>OUT017</td>\n",
       "      <td>2007</td>\n",
       "      <td>NaN</td>\n",
       "      <td>Tier 2</td>\n",
       "      <td>Supermarket Type1</td>\n",
       "    </tr>\n",
       "    <tr>\n",
       "      <th>4</th>\n",
       "      <td>FDY38</td>\n",
       "      <td>NaN</td>\n",
       "      <td>Regular</td>\n",
       "      <td>0.118599</td>\n",
       "      <td>Dairy</td>\n",
       "      <td>234.2300</td>\n",
       "      <td>OUT027</td>\n",
       "      <td>1985</td>\n",
       "      <td>Medium</td>\n",
       "      <td>Tier 3</td>\n",
       "      <td>Supermarket Type3</td>\n",
       "    </tr>\n",
       "  </tbody>\n",
       "</table>\n",
       "</div>"
      ],
      "text/plain": [
       "  Item_Identifier  Item_Weight Item_Fat_Content  Item_Visibility    Item_Type  \\\n",
       "0           FDW58       20.750          Low Fat         0.007565  Snack Foods   \n",
       "1           FDW14        8.300              reg         0.038428        Dairy   \n",
       "2           NCN55       14.600          Low Fat         0.099575       Others   \n",
       "3           FDQ58        7.315          Low Fat         0.015388  Snack Foods   \n",
       "4           FDY38          NaN          Regular         0.118599        Dairy   \n",
       "\n",
       "   Item_MRP Outlet_Identifier  Outlet_Establishment_Year Outlet_Size  \\\n",
       "0  107.8622            OUT049                       1999      Medium   \n",
       "1   87.3198            OUT017                       2007         NaN   \n",
       "2  241.7538            OUT010                       1998         NaN   \n",
       "3  155.0340            OUT017                       2007         NaN   \n",
       "4  234.2300            OUT027                       1985      Medium   \n",
       "\n",
       "  Outlet_Location_Type        Outlet_Type  \n",
       "0               Tier 1  Supermarket Type1  \n",
       "1               Tier 2  Supermarket Type1  \n",
       "2               Tier 3      Grocery Store  \n",
       "3               Tier 2  Supermarket Type1  \n",
       "4               Tier 3  Supermarket Type3  "
      ]
     },
     "execution_count": 94,
     "metadata": {},
     "output_type": "execute_result"
    }
   ],
   "source": [
    "df_Test = pd.read_csv('Test_BigMart.csv', header=[0])\n",
    "df_Test.head()"
   ]
  },
  {
   "cell_type": "code",
   "execution_count": 95,
   "metadata": {},
   "outputs": [
    {
     "data": {
      "text/plain": [
       "(5681, 11)"
      ]
     },
     "execution_count": 95,
     "metadata": {},
     "output_type": "execute_result"
    }
   ],
   "source": [
    "df_Test.shape"
   ]
  },
  {
   "cell_type": "code",
   "execution_count": 96,
   "metadata": {},
   "outputs": [
    {
     "name": "stdout",
     "output_type": "stream",
     "text": [
      "<class 'pandas.core.frame.DataFrame'>\n",
      "RangeIndex: 5681 entries, 0 to 5680\n",
      "Data columns (total 11 columns):\n",
      " #   Column                     Non-Null Count  Dtype  \n",
      "---  ------                     --------------  -----  \n",
      " 0   Item_Identifier            5681 non-null   object \n",
      " 1   Item_Weight                4705 non-null   float64\n",
      " 2   Item_Fat_Content           5681 non-null   object \n",
      " 3   Item_Visibility            5681 non-null   float64\n",
      " 4   Item_Type                  5681 non-null   object \n",
      " 5   Item_MRP                   5681 non-null   float64\n",
      " 6   Outlet_Identifier          5681 non-null   object \n",
      " 7   Outlet_Establishment_Year  5681 non-null   int64  \n",
      " 8   Outlet_Size                4075 non-null   object \n",
      " 9   Outlet_Location_Type       5681 non-null   object \n",
      " 10  Outlet_Type                5681 non-null   object \n",
      "dtypes: float64(3), int64(1), object(7)\n",
      "memory usage: 488.3+ KB\n"
     ]
    }
   ],
   "source": [
    "df_Test.info()"
   ]
  },
  {
   "cell_type": "code",
   "execution_count": 97,
   "metadata": {},
   "outputs": [
    {
     "name": "stdout",
     "output_type": "stream",
     "text": [
      "['Low Fat' 'reg' 'Regular' 'LF' 'low fat']\n",
      "['Snack Foods' 'Dairy' 'Others' 'Fruits and Vegetables' 'Baking Goods'\n",
      " 'Health and Hygiene' 'Breads' 'Hard Drinks' 'Seafood' 'Soft Drinks'\n",
      " 'Household' 'Frozen Foods' 'Meat' 'Canned' 'Starchy Foods' 'Breakfast']\n",
      "['Medium' nan 'Small' 'High']\n",
      "['Tier 1' 'Tier 2' 'Tier 3']\n",
      "['Supermarket Type1' 'Grocery Store' 'Supermarket Type3'\n",
      " 'Supermarket Type2']\n"
     ]
    }
   ],
   "source": [
    "print (df_Test[\"Item_Fat_Content\"].unique())\n",
    "print (df_Test[\"Item_Type\"].unique())\n",
    "print (df_Test[\"Outlet_Size\"].unique())\n",
    "print (df_Test[\"Outlet_Location_Type\"].unique())\n",
    "print (df_Test[\"Outlet_Type\"].unique())"
   ]
  },
  {
   "cell_type": "code",
   "execution_count": 98,
   "metadata": {},
   "outputs": [
    {
     "data": {
      "text/plain": [
       "Low Fat    3396\n",
       "Regular    1935\n",
       "LF          206\n",
       "reg          78\n",
       "low fat      66\n",
       "Name: Item_Fat_Content, dtype: int64"
      ]
     },
     "execution_count": 98,
     "metadata": {},
     "output_type": "execute_result"
    }
   ],
   "source": [
    "df_Test[\"Item_Fat_Content\"].value_counts()"
   ]
  },
  {
   "cell_type": "code",
   "execution_count": 99,
   "metadata": {},
   "outputs": [
    {
     "data": {
      "text/plain": [
       "Low Fat    3668\n",
       "Regular    2013\n",
       "Name: Item_Fat_Content, dtype: int64"
      ]
     },
     "execution_count": 99,
     "metadata": {},
     "output_type": "execute_result"
    }
   ],
   "source": [
    "df_Test[\"Item_Fat_Content\"] = df_Test[\"Item_Fat_Content\"].replace(['LF','low fat'],'Low Fat')\n",
    "df_Test[\"Item_Fat_Content\"] = df_Test[\"Item_Fat_Content\"].replace('reg','Regular')\n",
    "df_Test[\"Item_Fat_Content\"].value_counts()"
   ]
  },
  {
   "cell_type": "code",
   "execution_count": 100,
   "metadata": {},
   "outputs": [
    {
     "name": "stdout",
     "output_type": "stream",
     "text": [
      "<class 'pandas.core.frame.DataFrame'>\n",
      "RangeIndex: 5681 entries, 0 to 5680\n",
      "Data columns (total 11 columns):\n",
      " #   Column                     Non-Null Count  Dtype  \n",
      "---  ------                     --------------  -----  \n",
      " 0   Item_Identifier            5681 non-null   object \n",
      " 1   Item_Weight                5681 non-null   float64\n",
      " 2   Item_Fat_Content           5681 non-null   object \n",
      " 3   Item_Visibility            5681 non-null   float64\n",
      " 4   Item_Type                  5681 non-null   object \n",
      " 5   Item_MRP                   5681 non-null   float64\n",
      " 6   Outlet_Identifier          5681 non-null   object \n",
      " 7   Outlet_Establishment_Year  5681 non-null   int64  \n",
      " 8   Outlet_Size                5681 non-null   object \n",
      " 9   Outlet_Location_Type       5681 non-null   object \n",
      " 10  Outlet_Type                5681 non-null   object \n",
      "dtypes: float64(3), int64(1), object(7)\n",
      "memory usage: 488.3+ KB\n"
     ]
    }
   ],
   "source": [
    "#missing values in Item_weight and Outlet_size needs to be imputed\n",
    "mean_wt = df_Test['Item_Weight'].mean() #imputing item_weight with mean\n",
    "df_Test['Item_Weight'].fillna(mean_wt, inplace =True)\n",
    "\n",
    "mode_Outlet = df_Test['Outlet_Size'].mode() #imputing outlet size with mode\n",
    "df_Test['Outlet_Size'].fillna(mode_Outlet[0], inplace =True)\n",
    "\n",
    "df_Test.info()"
   ]
  },
  {
   "cell_type": "code",
   "execution_count": 101,
   "metadata": {},
   "outputs": [
    {
     "name": "stdout",
     "output_type": "stream",
     "text": [
      "<class 'pandas.core.frame.DataFrame'>\n",
      "RangeIndex: 5681 entries, 0 to 5680\n",
      "Data columns (total 9 columns):\n",
      " #   Column                     Non-Null Count  Dtype  \n",
      "---  ------                     --------------  -----  \n",
      " 0   Item_Weight                5681 non-null   float64\n",
      " 1   Item_Fat_Content           5681 non-null   object \n",
      " 2   Item_Visibility            5681 non-null   float64\n",
      " 3   Item_Type                  5681 non-null   object \n",
      " 4   Item_MRP                   5681 non-null   float64\n",
      " 5   Outlet_Establishment_Year  5681 non-null   int64  \n",
      " 6   Outlet_Size                5681 non-null   object \n",
      " 7   Outlet_Location_Type       5681 non-null   object \n",
      " 8   Outlet_Type                5681 non-null   object \n",
      "dtypes: float64(3), int64(1), object(5)\n",
      "memory usage: 399.6+ KB\n"
     ]
    }
   ],
   "source": [
    "x_test = df_Test.drop(['Item_Identifier', 'Outlet_Identifier'], axis=1, inplace=False)\n",
    "\n",
    "x_test.info()"
   ]
  },
  {
   "cell_type": "code",
   "execution_count": 102,
   "metadata": {},
   "outputs": [
    {
     "name": "stdout",
     "output_type": "stream",
     "text": [
      "<class 'pandas.core.frame.DataFrame'>\n",
      "RangeIndex: 5681 entries, 0 to 5680\n",
      "Data columns (total 27 columns):\n",
      " #   Column                           Non-Null Count  Dtype  \n",
      "---  ------                           --------------  -----  \n",
      " 0   Item_Weight                      5681 non-null   float64\n",
      " 1   Item_Visibility                  5681 non-null   float64\n",
      " 2   Item_MRP                         5681 non-null   float64\n",
      " 3   Outlet_Establishment_Year        5681 non-null   int64  \n",
      " 4   Item_Fat_Content_Regular         5681 non-null   uint8  \n",
      " 5   Item_Type_Breads                 5681 non-null   uint8  \n",
      " 6   Item_Type_Breakfast              5681 non-null   uint8  \n",
      " 7   Item_Type_Canned                 5681 non-null   uint8  \n",
      " 8   Item_Type_Dairy                  5681 non-null   uint8  \n",
      " 9   Item_Type_Frozen Foods           5681 non-null   uint8  \n",
      " 10  Item_Type_Fruits and Vegetables  5681 non-null   uint8  \n",
      " 11  Item_Type_Hard Drinks            5681 non-null   uint8  \n",
      " 12  Item_Type_Health and Hygiene     5681 non-null   uint8  \n",
      " 13  Item_Type_Household              5681 non-null   uint8  \n",
      " 14  Item_Type_Meat                   5681 non-null   uint8  \n",
      " 15  Item_Type_Others                 5681 non-null   uint8  \n",
      " 16  Item_Type_Seafood                5681 non-null   uint8  \n",
      " 17  Item_Type_Snack Foods            5681 non-null   uint8  \n",
      " 18  Item_Type_Soft Drinks            5681 non-null   uint8  \n",
      " 19  Item_Type_Starchy Foods          5681 non-null   uint8  \n",
      " 20  Outlet_Size_Medium               5681 non-null   uint8  \n",
      " 21  Outlet_Size_Small                5681 non-null   uint8  \n",
      " 22  Outlet_Location_Type_Tier 2      5681 non-null   uint8  \n",
      " 23  Outlet_Location_Type_Tier 3      5681 non-null   uint8  \n",
      " 24  Outlet_Type_Supermarket Type1    5681 non-null   uint8  \n",
      " 25  Outlet_Type_Supermarket Type2    5681 non-null   uint8  \n",
      " 26  Outlet_Type_Supermarket Type3    5681 non-null   uint8  \n",
      "dtypes: float64(3), int64(1), uint8(23)\n",
      "memory usage: 305.3 KB\n"
     ]
    }
   ],
   "source": [
    "x_test = pd.get_dummies(x_test, drop_first=True)\n",
    "x_test.info()"
   ]
  },
  {
   "cell_type": "code",
   "execution_count": 103,
   "metadata": {},
   "outputs": [
    {
     "name": "stdout",
     "output_type": "stream",
     "text": [
      "<class 'pandas.core.frame.DataFrame'>\n",
      "RangeIndex: 5681 entries, 0 to 5680\n",
      "Data columns (total 27 columns):\n",
      " #   Column  Non-Null Count  Dtype  \n",
      "---  ------  --------------  -----  \n",
      " 0   0       5681 non-null   float64\n",
      " 1   1       5681 non-null   float64\n",
      " 2   2       5681 non-null   float64\n",
      " 3   3       5681 non-null   float64\n",
      " 4   4       5681 non-null   float64\n",
      " 5   5       5681 non-null   float64\n",
      " 6   6       5681 non-null   float64\n",
      " 7   7       5681 non-null   float64\n",
      " 8   8       5681 non-null   float64\n",
      " 9   9       5681 non-null   float64\n",
      " 10  10      5681 non-null   float64\n",
      " 11  11      5681 non-null   float64\n",
      " 12  12      5681 non-null   float64\n",
      " 13  13      5681 non-null   float64\n",
      " 14  14      5681 non-null   float64\n",
      " 15  15      5681 non-null   float64\n",
      " 16  16      5681 non-null   float64\n",
      " 17  17      5681 non-null   float64\n",
      " 18  18      5681 non-null   float64\n",
      " 19  19      5681 non-null   float64\n",
      " 20  20      5681 non-null   float64\n",
      " 21  21      5681 non-null   float64\n",
      " 22  22      5681 non-null   float64\n",
      " 23  23      5681 non-null   float64\n",
      " 24  24      5681 non-null   float64\n",
      " 25  25      5681 non-null   float64\n",
      " 26  26      5681 non-null   float64\n",
      "dtypes: float64(27)\n",
      "memory usage: 1.2 MB\n"
     ]
    }
   ],
   "source": [
    "x_test_scaled = scaler.fit_transform(x_test)\n",
    "X_test = pd.DataFrame(x_test_scaled)\n",
    "X_test.info()"
   ]
  },
  {
   "cell_type": "code",
   "execution_count": 104,
   "metadata": {},
   "outputs": [],
   "source": [
    "Y_pred = model.predict(X_test)\n",
    "#predicting values of Item_Outlet_Sales on test data and saving in Y_pred"
   ]
  },
  {
   "cell_type": "code",
   "execution_count": 105,
   "metadata": {},
   "outputs": [
    {
     "data": {
      "text/plain": [
       "2160.835924806372"
      ]
     },
     "execution_count": 105,
     "metadata": {},
     "output_type": "execute_result"
    }
   ],
   "source": [
    "Y_pred.mean()"
   ]
  },
  {
   "cell_type": "markdown",
   "metadata": {},
   "source": [
    "Here we are applying KNN on training data (8523 records) to find out for which value of KNN, the MSE has the least error (for k=9).\n",
    "Next we applied GridSearchCV to find out for which fold we are getting least error (for k=8).\n",
    "Finally we are applying this model to predict the values of Item_Outlet_Sales on test dataset (5681 records), whose mean score we got as 2160.83"
   ]
  },
  {
   "cell_type": "code",
   "execution_count": null,
   "metadata": {},
   "outputs": [],
   "source": []
  }
 ],
 "metadata": {
  "kernelspec": {
   "display_name": "Python 3",
   "language": "python",
   "name": "python3"
  },
  "language_info": {
   "codemirror_mode": {
    "name": "ipython",
    "version": 3
   },
   "file_extension": ".py",
   "mimetype": "text/x-python",
   "name": "python",
   "nbconvert_exporter": "python",
   "pygments_lexer": "ipython3",
   "version": "3.8.2"
  }
 },
 "nbformat": 4,
 "nbformat_minor": 4
}
